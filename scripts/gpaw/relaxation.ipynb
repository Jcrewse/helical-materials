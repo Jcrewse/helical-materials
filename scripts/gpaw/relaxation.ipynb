{
 "cells": [
  {
   "attachments": {},
   "cell_type": "markdown",
   "metadata": {},
   "source": [
    "# Molecular bond length relaxation\n",
    "In this notebook, we perform a structural optimization, or relaxation, of the molecular components of the polymer chains studied in the rest of this software."
   ]
  },
  {
   "cell_type": "code",
   "execution_count": 2,
   "metadata": {},
   "outputs": [
    {
     "name": "stdout",
     "output_type": "stream",
     "text": [
      "                Step[ FC]     Time          Energy          fmax\n",
      "*Force-consistent energies used in optimization.\n",
      "BFGSLineSearch:    0[  0] 15:58:32        0.720077*       1.8464\n",
      "BFGSLineSearch:    1[  2] 15:58:32        0.670462*       0.1026\n",
      "BFGSLineSearch:    2[  3] 15:58:32        0.670284*       0.0110\n",
      "BFGSLineSearch:    3[  4] 15:58:32        0.670282*       0.0001\n",
      "Bond length: 1.0559674209733814 Angstrom\n"
     ]
    }
   ],
   "source": [
    "from ase import Atoms\n",
    "from ase.calculators.emt import EMT\n",
    "from ase.optimize import QuasiNewton\n",
    "from math import sqrt, pi\n",
    "from src.ase_systems import H2_chain\n",
    "\n",
    "# Defining the atoms in the system\n",
    "#system = Atoms('H2', positions=[[0.0, 0.0, 0.0],\n",
    "#                                [0.0, 0.0, 1.0]])\n",
    "system = Atoms('CO', positions=[[0.0, 0.0, 0.0],\n",
    "                                [0.0, 0.0, 1.0]])\n",
    "\n",
    "# system = Atoms('COCO', positions=[[0.0, 0.0, 0.0],\n",
    "#                                   [0.0, 0.0, 1.0],\n",
    "#                                   [1.0, 0.0, 0.0],\n",
    "#                                   [1.0, 0.0, 1.0]])\n",
    "\n",
    "#system = H2_chain.System(twist_angle = pi/2).Atoms\n",
    "\n",
    "# Associate the EMT calculator with the Atoms object\n",
    "system.calc = EMT()\n",
    "\n",
    "# QuasiNewton optimizer for the system\n",
    "opt = QuasiNewton(system, trajectory='relax.emt.traj')\n",
    "\n",
    "# Perform the optimization\n",
    "# Convergence criteria: f < 0.001 eV/Angstrom\n",
    "opt.run(fmax=0.001)\n",
    "\n",
    "# Calculate the bond length\n",
    "pos = system.positions\n",
    "bond_vec = abs(pos[0] - pos[1])\n",
    "bond_length = sqrt(bond_vec[0]**2 + bond_vec[1]**2 + bond_vec[2]**2)\n",
    "print(f'Bond length: {bond_length} Angstrom')"
   ]
  }
 ],
 "metadata": {
  "kernelspec": {
   "display_name": "quantum",
   "language": "python",
   "name": "python3"
  },
  "language_info": {
   "codemirror_mode": {
    "name": "ipython",
    "version": 3
   },
   "file_extension": ".py",
   "mimetype": "text/x-python",
   "name": "python",
   "nbconvert_exporter": "python",
   "pygments_lexer": "ipython3",
   "version": "3.10.6"
  },
  "orig_nbformat": 4
 },
 "nbformat": 4,
 "nbformat_minor": 2
}
