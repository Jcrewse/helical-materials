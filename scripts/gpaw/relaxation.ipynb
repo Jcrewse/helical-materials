{
 "cells": [
  {
   "attachments": {},
   "cell_type": "markdown",
   "metadata": {},
   "source": [
    "# Molecular bond length relaxation\n",
    "In this notebook, we perform a structural optimization, or relaxation, of the molecular components of the polymer chains studied in the rest of this software."
   ]
  },
  {
   "cell_type": "code",
   "execution_count": 1,
   "metadata": {},
   "outputs": [
    {
     "name": "stdout",
     "output_type": "stream",
     "text": [
      "                Step[ FC]     Time          Energy          fmax\n",
      "*Force-consistent energies used in optimization.\n",
      "BFGSLineSearch:    0[  0] 22:32:41        2.299030*       8.0358\n",
      "BFGSLineSearch:    1[  2] 22:32:41        1.129250*       2.9257\n",
      "BFGSLineSearch:    2[  4] 22:32:41        1.070800*       0.2142\n",
      "BFGSLineSearch:    3[  5] 22:32:41        1.070549*       0.0367\n",
      "BFGSLineSearch:    4[  6] 22:32:41        1.070541*       0.0004\n",
      "Bond length: 0.7790502107919829 Angstrom\n"
     ]
    }
   ],
   "source": [
    "from ase import Atoms\n",
    "from ase.calculators.emt import EMT\n",
    "from ase.optimize import QuasiNewton\n",
    "from math import sqrt\n",
    "\n",
    "# Defining the atoms in the system\n",
    "system = Atoms('H2', positions=[[0.0, 0.0, 0.0],\n",
    "                                [0.0, 0.0, 1.0]])\n",
    "#system = Atoms('CO', positions=[[0.0, 0.0, 0.0],\n",
    "#                                [0.0, 0.0, 1.0]])\n",
    "\n",
    "# Associate the EMT calculator with the Atoms object\n",
    "system.calc = EMT()\n",
    "\n",
    "# QuasiNewton optimizer for the system\n",
    "opt = QuasiNewton(system)\n",
    "\n",
    "# Perform the optimization\n",
    "# Convergence criteria: f < 0.001 eV/Angstrom\n",
    "opt.run(fmax=0.001)\n",
    "\n",
    "# Calculate the bond length\n",
    "pos = system.positions\n",
    "bond_vec = abs(pos[0] - pos[1])\n",
    "bond_length = sqrt(bond_vec[0]**2 + bond_vec[1]**2 + bond_vec[2]**2)\n",
    "print(f'Bond length: {bond_length} Angstrom')"
   ]
  }
 ],
 "metadata": {
  "kernelspec": {
   "display_name": "quantum",
   "language": "python",
   "name": "python3"
  },
  "language_info": {
   "codemirror_mode": {
    "name": "ipython",
    "version": 3
   },
   "file_extension": ".py",
   "mimetype": "text/x-python",
   "name": "python",
   "nbconvert_exporter": "python",
   "pygments_lexer": "ipython3",
   "version": "3.10.6"
  },
  "orig_nbformat": 4
 },
 "nbformat": 4,
 "nbformat_minor": 2
}
