{
 "cells": [
  {
   "cell_type": "code",
   "execution_count": 3,
   "metadata": {},
   "outputs": [
    {
     "ename": "SyntaxError",
     "evalue": "invalid syntax. Perhaps you forgot a comma? (2850492416.py, line 28)",
     "output_type": "error",
     "traceback": [
      "\u001b[0;36m  Cell \u001b[0;32mIn [3], line 28\u001b[0;36m\u001b[0m\n\u001b[0;31m    ax.plot(kpts, energies, color='k'\u001b[0m\n\u001b[0m                                  ^\u001b[0m\n\u001b[0;31mSyntaxError\u001b[0m\u001b[0;31m:\u001b[0m invalid syntax. Perhaps you forgot a comma?\n"
     ]
    }
   ],
   "source": [
    "import kwant\n",
    "import numpy as np\n",
    "from matplotlib import pyplot as plt\n",
    "from matplotlib import cm\n",
    "#from src.ladder_hamiltonian import old_hamiltonian as hamiltonian\n",
    "from src.ladder_hamiltonian import hamiltonian as hamiltonian\n",
    "\n",
    "N_phi = 2\n",
    "phi = np.pi/N_phi\n",
    "\n",
    "# Some default parameters\n",
    "u0 = 20\n",
    "t0 = 25\n",
    "v0 = 10\n",
    "w0 = 5\n",
    "\n",
    "# k point grid\n",
    "a = 1\n",
    "kpts = np.linspace(-np.pi/a, np.pi/a, 501)\n",
    "\n",
    "# Set up figure\n",
    "fig, ax = plt.subplots(figsize = (4,6))\n",
    "\n",
    "sys = hamiltonian(phi = phi, n_phi = N_phi, output=True).finalized()\n",
    "bands = kwant.physics.Bands(sys)\n",
    "energies = [bands(k*a) for k in kpts]\n",
    "\n",
    "ax.plot(kpts, energies, color='k',\n",
    "        label=r'$\\phi = $'  + str(np.round(phi, 3)))\n",
    "    \n",
    "# Axis limits, labels\n",
    "ax.set_xlim(0,np.pi/a)\n",
    "ax.set_ylabel(r'$\\epsilon(k)$')\n",
    "ax.set_xlabel(r'$k$')\n",
    "ax.annotate(r'u = {}, t = {}, v = {}, w = {}'\n",
    "            .format(np.round(u0,3),np.round(t0,3),np.round(v0,3), np.round(w0,3)), \n",
    "            xy = (0.05, 0.95), \n",
    "            xycoords = 'axes fraction')\n",
    "\n",
    "# Remove duplicate legend handles\n",
    "handles, labels = ax.get_legend_handles_labels()\n",
    "unique = [(h, l) for i, (h, l) in enumerate(zip(handles, labels)) if l not in labels[:i]]\n",
    "ax.legend(*zip(*unique), loc='lower right')\n",
    "   \n",
    "plt.tight_layout()\n",
    "plt.savefig('bands-vs-phi.png', dpi=400)\n",
    "plt.show()"
   ]
  }
 ],
 "metadata": {
  "kernelspec": {
   "display_name": "quantum",
   "language": "python",
   "name": "python3"
  },
  "language_info": {
   "codemirror_mode": {
    "name": "ipython",
    "version": 3
   },
   "file_extension": ".py",
   "mimetype": "text/x-python",
   "name": "python",
   "nbconvert_exporter": "python",
   "pygments_lexer": "ipython3",
   "version": "3.10.6"
  },
  "orig_nbformat": 4
 },
 "nbformat": 4,
 "nbformat_minor": 2
}
