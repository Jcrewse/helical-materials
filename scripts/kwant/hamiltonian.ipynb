{
 "cells": [
  {
   "cell_type": "code",
   "execution_count": 3,
   "metadata": {},
   "outputs": [
    {
     "name": "stdout",
     "output_type": "stream",
     "text": [
      "========== Hamiltonian initialized ==========\n",
      "Lattice constants: a = 1, b = 1\n",
      "Finite width = 2\n",
      "Hoppings: u = 20, t = 25, v = 10, w = 10\n",
      "Twist angle: phi = 1.0471975511965976\n",
      "---------- Hamiltonian matrix ----------\n",
      "H = \n",
      "[[ 41.65063509+0.j   0.        +0.j -10.        -0.j -10.        -0.j -10.        -0.j -10.        -0.j   0.        +0.j   0.        +0.j\n",
      "    0.        +0.j -25.        -0.j]\n",
      " [  0.        +0.j  -1.65063509+0.j -10.        -0.j -10.        -0.j -10.        -0.j -10.        -0.j   0.        +0.j   0.        +0.j\n",
      "  -25.        -0.j   0.        +0.j]\n",
      " [-10.        +0.j -10.        +0.j  20.        +0.j   0.        +0.j   0.        +0.j -25.        -0.j   0.        +0.j   0.        +0.j\n",
      "    0.        +0.j   0.        +0.j]\n",
      " [-10.        +0.j -10.        +0.j   0.        +0.j  20.        +0.j -25.        -0.j   0.        +0.j   0.        +0.j   0.        +0.j\n",
      "    0.        +0.j   0.        +0.j]\n",
      " [-10.        +0.j -10.        +0.j   0.        +0.j -25.        +0.j  20.        +0.j -25.        -0.j   0.        +0.j -25.        -0.j\n",
      "  -10.        -0.j -10.        -0.j]\n",
      " [-10.        +0.j -10.        +0.j -25.        +0.j   0.        +0.j -25.        +0.j  20.        +0.j -25.        -0.j   0.        +0.j\n",
      "  -10.        -0.j -10.        -0.j]\n",
      " [  0.        +0.j   0.        +0.j   0.        +0.j   0.        +0.j   0.        +0.j -25.        +0.j  41.65063509+0.j   0.        +0.j\n",
      "    0.        +0.j   0.        +0.j]\n",
      " [  0.        +0.j   0.        +0.j   0.        +0.j   0.        +0.j -25.        +0.j   0.        +0.j   0.        +0.j  -1.65063509+0.j\n",
      "    0.        +0.j   0.        +0.j]\n",
      " [  0.        +0.j -25.        +0.j   0.        +0.j   0.        +0.j -10.        +0.j -10.        +0.j   0.        +0.j   0.        +0.j\n",
      "   20.        +0.j   0.        +0.j]\n",
      " [-25.        +0.j   0.        +0.j   0.        +0.j   0.        +0.j -10.        +0.j -10.        +0.j   0.        +0.j   0.        +0.j\n",
      "    0.        +0.j  20.        +0.j]]\n",
      "H_cell = \n",
      "[[ 41.65063509+0.j   0.        +0.j -10.        +0.j -10.        +0.j -10.        +0.j -10.        +0.j]\n",
      " [  0.        +0.j  -1.65063509+0.j -10.        +0.j -10.        +0.j -10.        +0.j -10.        +0.j]\n",
      " [-10.        +0.j -10.        +0.j  20.        +0.j   0.        +0.j   0.        +0.j -25.        +0.j]\n",
      " [-10.        +0.j -10.        +0.j   0.        +0.j  20.        +0.j -25.        +0.j   0.        +0.j]\n",
      " [-10.        +0.j -10.        +0.j   0.        +0.j -25.        +0.j  20.        +0.j -25.        +0.j]\n",
      " [-10.        +0.j -10.        +0.j -25.        +0.j   0.        +0.j -25.        +0.j  20.        +0.j]]\n",
      "H_inter_cell = \n",
      "[[  0.+0.j   0.+0.j   0.+0.j -25.+0.j]\n",
      " [  0.+0.j   0.+0.j -25.+0.j   0.+0.j]\n",
      " [  0.+0.j   0.+0.j   0.+0.j   0.+0.j]\n",
      " [  0.+0.j   0.+0.j   0.+0.j   0.+0.j]\n",
      " [  0.+0.j -25.+0.j -10.+0.j -10.+0.j]\n",
      " [-25.+0.j   0.+0.j -10.+0.j -10.+0.j]]\n"
     ]
    }
   ],
   "source": [
    "import sys\n",
    "import kwant\n",
    "import numpy as np\n",
    "from matplotlib import pyplot as plt\n",
    "\n",
    "# Import Hamiltonian module\n",
    "sys.path.append('../../src/')\n",
    "from ladder_hamiltonian import hamiltonian\n",
    "\n",
    "# System parameters\n",
    "a = 1\n",
    "b = 1\n",
    "width = 2\n",
    "N_phi = 3 # Unit cell size\n",
    "\n",
    "# Some default parameters\n",
    "u0 = 20\n",
    "t0 = 25\n",
    "v0 = 10\n",
    "w0 = 10\n",
    "phi0 = np.pi/N_phi\n",
    "\n",
    "sys = hamiltonian(a, b, width, (u0, t0, v0, w0), phi0, N_phi, output=True)"
   ]
  }
 ],
 "metadata": {
  "kernelspec": {
   "display_name": "quantum",
   "language": "python",
   "name": "python3"
  },
  "language_info": {
   "codemirror_mode": {
    "name": "ipython",
    "version": 3
   },
   "file_extension": ".py",
   "mimetype": "text/x-python",
   "name": "python",
   "nbconvert_exporter": "python",
   "pygments_lexer": "ipython3",
   "version": "3.10.6"
  },
  "orig_nbformat": 4
 },
 "nbformat": 4,
 "nbformat_minor": 2
}
