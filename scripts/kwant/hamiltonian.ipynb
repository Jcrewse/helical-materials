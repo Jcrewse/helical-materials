{
 "cells": [
  {
   "cell_type": "code",
   "execution_count": 1,
   "metadata": {},
   "outputs": [
    {
     "name": "stdout",
     "output_type": "stream",
     "text": [
      "Layer = 0\n",
      "H_molecule = \n",
      " [[20, -25], [-25, 20]]\n",
      "H_rot = \n",
      " [[ 20 -25]\n",
      " [-25  20]]\n",
      "Layer = 1\n",
      "H_molecule = \n",
      " [[20, -25], [-25, 20]]\n",
      "H_rot = \n",
      " [[41.65063509 12.5       ]\n",
      " [12.5        -1.65063509]]\n",
      "Layer = 2\n",
      "H_molecule = \n",
      " [[20, -25], [-25, 20]]\n",
      "H_rot = \n",
      " [[-1.65063509 12.5       ]\n",
      " [12.5        41.65063509]]\n",
      "========== Hamiltonian initialized ==========\n",
      "Lattice constants: a = 1, b = 1\n",
      "Finite width = 2\n",
      "Hoppings: u = 20, t = 25, v = 10, w = 10\n",
      "Twist angle: phi = 1.0471975511965976\n",
      "---------- Hamiltonian matrix ----------\n",
      "H = \n",
      "[[ -1.65063509+0.j  12.5       -0.j   0.        +0.j   0.        +0.j -10.        -0.j -10.        -0.j   0.        +0.j   0.        +0.j]\n",
      " [ 12.5       +0.j  41.65063509+0.j   0.        +0.j   0.        +0.j -10.        -0.j -10.        -0.j   0.        +0.j   0.        +0.j]\n",
      " [  0.        +0.j   0.        +0.j  20.        +0.j -25.        -0.j -10.        -0.j -10.        -0.j -10.        -0.j -10.        -0.j]\n",
      " [  0.        +0.j   0.        +0.j -25.        +0.j  20.        +0.j -10.        -0.j -10.        -0.j -10.        -0.j -10.        -0.j]\n",
      " [-10.        +0.j -10.        +0.j -10.        +0.j -10.        +0.j  41.65063509+0.j  12.5       -0.j   0.        +0.j   0.        +0.j]\n",
      " [-10.        +0.j -10.        +0.j -10.        +0.j -10.        +0.j  12.5       +0.j  -1.65063509+0.j   0.        +0.j   0.        +0.j]\n",
      " [  0.        +0.j   0.        +0.j -10.        +0.j -10.        +0.j   0.        +0.j   0.        +0.j  -1.65063509+0.j   0.        +0.j]\n",
      " [  0.        +0.j   0.        +0.j -10.        +0.j -10.        +0.j   0.        +0.j   0.        +0.j   0.        +0.j  41.65063509+0.j]]\n",
      "H_cell = \n",
      "[[ -1.65063509+0.j  12.5       +0.j   0.        +0.j   0.        +0.j -10.        +0.j -10.        +0.j]\n",
      " [ 12.5       +0.j  41.65063509+0.j   0.        +0.j   0.        +0.j -10.        +0.j -10.        +0.j]\n",
      " [  0.        +0.j   0.        +0.j  20.        +0.j -25.        +0.j -10.        +0.j -10.        +0.j]\n",
      " [  0.        +0.j   0.        +0.j -25.        +0.j  20.        +0.j -10.        +0.j -10.        +0.j]\n",
      " [-10.        +0.j -10.        +0.j -10.        +0.j -10.        +0.j  41.65063509+0.j  12.5       +0.j]\n",
      " [-10.        +0.j -10.        +0.j -10.        +0.j -10.        +0.j  12.5       +0.j  -1.65063509+0.j]]\n",
      "H_inter_cell = \n",
      "[[  0.+0.j   0.+0.j]\n",
      " [  0.+0.j   0.+0.j]\n",
      " [-10.+0.j -10.+0.j]\n",
      " [-10.+0.j -10.+0.j]\n",
      " [  0.+0.j   0.+0.j]\n",
      " [  0.+0.j   0.+0.j]]\n"
     ]
    }
   ],
   "source": [
    "import sys\n",
    "import kwant\n",
    "import numpy as np\n",
    "from matplotlib import pyplot as plt\n",
    "from src.ladder_hamiltonian import hamiltonian\n",
    "\n",
    "# System parameters\n",
    "a = 1\n",
    "b = 1\n",
    "width = 2\n",
    "N_phi = 3 # Unit cell size\n",
    "\n",
    "# Some default parameters\n",
    "u0 = 20\n",
    "t0 = 25\n",
    "v0 = 10\n",
    "w0 = 10\n",
    "phi0 = np.pi/N_phi\n",
    "\n",
    "sys = hamiltonian(a, b, width, (u0, t0, v0, w0), phi0, N_phi, output=True)"
   ]
  }
 ],
 "metadata": {
  "kernelspec": {
   "display_name": "quantum",
   "language": "python",
   "name": "python3"
  },
  "language_info": {
   "codemirror_mode": {
    "name": "ipython",
    "version": 3
   },
   "file_extension": ".py",
   "mimetype": "text/x-python",
   "name": "python",
   "nbconvert_exporter": "python",
   "pygments_lexer": "ipython3",
   "version": "3.10.6"
  },
  "orig_nbformat": 4
 },
 "nbformat": 4,
 "nbformat_minor": 2
}
